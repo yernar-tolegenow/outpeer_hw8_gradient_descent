{
 "cells": [
  {
   "cell_type": "markdown",
   "id": "558de14b",
   "metadata": {},
   "source": [
    "### OUTPEER data science. Yernar Tolegenov"
   ]
  },
  {
   "cell_type": "code",
   "execution_count": 18,
   "id": "80083a87",
   "metadata": {},
   "outputs": [
    {
     "name": "stdout",
     "output_type": "stream",
     "text": [
      "Matrix Y:\n",
      " [[0.58801452]\n",
      " [0.69910875]\n",
      " [0.18815196]\n",
      " [0.04380856]\n",
      " [0.20501895]\n",
      " [0.10606287]\n",
      " [0.72724014]\n",
      " [0.67940052]\n",
      " [0.4738457 ]\n",
      " [0.44829582]\n",
      " [0.01910695]\n",
      " [0.75259834]\n",
      " [0.60244854]\n",
      " [0.96177758]\n",
      " [0.66436865]\n",
      " [0.60662962]\n",
      " [0.44915131]\n",
      " [0.22535416]\n",
      " [0.6701743 ]\n",
      " [0.73576659]]\n",
      "\n",
      "Matrix X:\n",
      " [[0.25799564 0.09554215 0.96090974 0.25176729 0.28216512]\n",
      " [0.76825393 0.7979234  0.5440372  0.38270763 0.38165095]\n",
      " [0.28582739 0.74026815 0.23898683 0.4377217  0.8835387 ]\n",
      " [0.28928114 0.78450686 0.75895366 0.41778538 0.22576877]\n",
      " [0.42009814 0.06436369 0.59643269 0.83732372 0.89248639]\n",
      " [0.20052744 0.50239523 0.89538184 0.25592093 0.86723234]\n",
      " [0.01648793 0.55249695 0.52790539 0.92335039 0.24594844]\n",
      " [0.06401838 0.9021047  0.8740398  0.16366729 0.99974131]\n",
      " [0.34680397 0.31287816 0.84710402 0.8802311  0.67655865]\n",
      " [0.05367515 0.55921377 0.69451294 0.8241973  0.31142866]\n",
      " [0.50523054 0.84900379 0.29351563 0.67711955 0.4209064 ]\n",
      " [0.68171271 0.22122799 0.5489977  0.84884672 0.7365669 ]\n",
      " [0.49962259 0.37966499 0.78752081 0.16886931 0.58635861]\n",
      " [0.43121067 0.06191019 0.28945477 0.7341454  0.28865545]\n",
      " [0.39039811 0.63561732 0.83114886 0.319421   0.15922479]\n",
      " [0.71166422 0.87270864 0.59315637 0.69471288 0.17323332]\n",
      " [0.53173259 0.87095862 0.84109027 0.97205554 0.78225721]\n",
      " [0.19703051 0.61062607 0.47885551 0.616637   0.13993324]\n",
      " [0.41123582 0.77763034 0.93972552 0.10457941 0.9384822 ]\n",
      " [0.79738717 0.33080272 0.31178575 0.29015382 0.17388959]]\n",
      "\n",
      "\n",
      "results:  [[0.9086227106186338, 0.9147746695945883], 0.743022355510928]\n"
     ]
    }
   ],
   "source": [
    "from random import seed\n",
    "import numpy as np\n",
    "\n",
    "np.random.seed(2024)\n",
    "\n",
    "Y = np.random.rand(20, 1)\n",
    "X = np.random.rand(20, 5)\n",
    "\n",
    "\n",
    "print(\"Matrix Y:\\n\", Y)\n",
    "print(\"\\nMatrix X:\\n\", X)\n",
    "\n",
    "def gradients(coef_3, coef_5, X, Y):\n",
    "    x3 = X[:, 2]\n",
    "    x5 = X[:, 4]\n",
    "    preds_Y = coef_3 * x3 + coef_5 * x5\n",
    "    differ = preds_Y - Y.ravel() #difference between predicted and actual values\n",
    "    grad_3 = 2 * np.mean(differ * x3)\n",
    "    grad_5 = 2 * np.mean(differ * x5)\n",
    "    return grad_3, grad_5\n",
    "\n",
    "def gradient_descent(X, Y, learning_rate=0.00001, iterations=10000):\n",
    "    coef_3, coef_5 = 1.0, 1.0\n",
    "    for _ in range(iterations):\n",
    "        grad3, grad5 = gradients(coef_3, coef_5, X, Y)\n",
    "        coef_3 -= learning_rate * grad3\n",
    "        coef_5 -= learning_rate * grad5\n",
    "    return coef_3, coef_5\n",
    "\n",
    "coef3, coef5 = gradient_descent(X, Y)\n",
    "\n",
    "def calculate_rmse(coef_3, coef_5, X, Y):\n",
    "    x3 = X[:, 2]\n",
    "    x5 = X[:, 4]\n",
    "    preds_Y = coef_3 * x3 + coef_5 * x5\n",
    "    rmse = np.sqrt(np.mean((preds_Y - Y.ravel()) ** 2))\n",
    "    return rmse\n",
    "\n",
    "rmse = calculate_rmse(coef3, coef5, X, Y)\n",
    "\n",
    "results = [[coef3, coef5], rmse]\n",
    "print('\\n\\nresults: ', results)"
   ]
  },
  {
   "cell_type": "code",
   "execution_count": null,
   "id": "e22b4178",
   "metadata": {},
   "outputs": [],
   "source": []
  }
 ],
 "metadata": {
  "kernelspec": {
   "display_name": "Python 3 (ipykernel)",
   "language": "python",
   "name": "python3"
  },
  "language_info": {
   "codemirror_mode": {
    "name": "ipython",
    "version": 3
   },
   "file_extension": ".py",
   "mimetype": "text/x-python",
   "name": "python",
   "nbconvert_exporter": "python",
   "pygments_lexer": "ipython3",
   "version": "3.11.5"
  }
 },
 "nbformat": 4,
 "nbformat_minor": 5
}
